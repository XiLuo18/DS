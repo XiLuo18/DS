{
 "cells": [
  {
   "cell_type": "markdown",
   "id": "1b51dec7-9bcf-4fd7-9c8e-535a435a0288",
   "metadata": {},
   "source": [
    "## Practice Questions for Pandas\n",
    "\n",
    "1. From df filter the 'Manufacturer', 'Model' and 'Type' for every 20th row starting from 1st (row 0).\n",
    "\n",
    "```\n",
    "df = pd.read_csv('https://raw.githubusercontent.com/selva86/datasets/master/Cars93_miss.csv')\n",
    "```\n",
    "\n",
    "2. Replace missing values in Min.Price and Max.Price columns with their respective mean.\n",
    "\n",
    "```\n",
    "df = pd.read_csv('https://raw.githubusercontent.com/selva86/datasets/master/Cars93_miss.csv')\n",
    "```\n",
    "\n",
    "3. How to get the rows of a dataframe with row sum > 100?\n",
    "\n",
    "```\n",
    "df = pd.DataFrame(np.random.randint(10, 40, 60).reshape(-1, 4))\n",
    "```\n",
    "\n",
    "4. Create a 4x4 NumPy array filled with random integers between 1 and 100. Then, reshape this array into two separate 2D arrays, where one represents the rows and the other represents the columns. Write a function, preferably using a lambda function, to calculate the sum of each row and each column separately, and return the results as two separate NumPy arrays\n",
    "```\n"
   ]
  },
  {
   "cell_type": "code",
   "execution_count": 25,
   "id": "90282d86-6e50-4f02-923b-bec1cd760ef5",
   "metadata": {},
   "outputs": [],
   "source": [
    "import pandas as pd"
   ]
  },
  {
   "cell_type": "code",
   "execution_count": 26,
   "id": "540fd1c7-ecca-4659-8ecd-ba010d54a692",
   "metadata": {},
   "outputs": [],
   "source": [
    "df = pd.read_csv('https://raw.githubusercontent.com/selva86/datasets/master/Cars93_miss.csv')"
   ]
  },
  {
   "cell_type": "code",
   "execution_count": 27,
   "id": "e6da67cd-3bce-41a3-9700-daf4dc5ee878",
   "metadata": {},
   "outputs": [
    {
     "name": "stdout",
     "output_type": "stream",
     "text": [
      "   Manufacturer    Model     Type\n",
      "0         Acura  Integra    Small\n",
      "20     Chrysler  LeBaron  Compact\n",
      "40        Honda  Prelude   Sporty\n",
      "60      Mercury   Cougar  Midsize\n",
      "80       Subaru   Loyale    Small\n"
     ]
    }
   ],
   "source": [
    "# Extract 'Manufacturer', 'Model', and 'Type' columns for every 20th row starting from the 1st row (row 0)\n",
    "result_df = df.iloc[::20, :][['Manufacturer', 'Model', 'Type']]\n",
    "\n",
    "# Display the result\n",
    "print(result_df)"
   ]
  },
  {
   "cell_type": "code",
   "execution_count": 28,
   "id": "186aae31-21b6-4950-86c1-51bc4156c051",
   "metadata": {},
   "outputs": [
    {
     "name": "stdout",
     "output_type": "stream",
     "text": [
      "    Min.Price  Max.Price\n",
      "0   12.900000  18.800000\n",
      "1   29.200000  38.700000\n",
      "2   25.900000  32.300000\n",
      "3   17.118605  44.600000\n",
      "4   17.118605  21.459091\n",
      "..        ...        ...\n",
      "88  16.600000  22.700000\n",
      "89  17.600000  22.400000\n",
      "90  22.900000  23.700000\n",
      "91  21.800000  23.500000\n",
      "92  24.800000  28.500000\n",
      "\n",
      "[93 rows x 2 columns]\n"
     ]
    }
   ],
   "source": [
    "# Calculate the mean for 'Min.Price' and 'Max.Price' columns\n",
    "min_price_mean = df['Min.Price'].mean()\n",
    "max_price_mean = df['Max.Price'].mean()\n",
    "\n",
    "# Use loc or iloc to avoid chained assignment\n",
    "df.loc[:, 'Min.Price'] = df['Min.Price'].fillna(min_price_mean)\n",
    "df.loc[:, 'Max.Price'] = df['Max.Price'].fillna(max_price_mean)\n",
    "\n",
    "# Display the DataFrame with missing values replaced\n",
    "print(df[['Min.Price', 'Max.Price']])"
   ]
  },
  {
   "cell_type": "code",
   "execution_count": 30,
   "id": "bc0d1f3f-0872-4970-8f06-710142c938d7",
   "metadata": {},
   "outputs": [
    {
     "name": "stdout",
     "output_type": "stream",
     "text": [
      "     L   A   Y   Z\n",
      "7   38  32  34  34\n",
      "12  12  39  33  18\n",
      "14  38  34  25  26\n"
     ]
    }
   ],
   "source": [
    "# Create a DataFrame\n",
    "df = pd.DataFrame(np.random.randint(10, 40, 60).reshape(-1, 4), columns=['L', 'A', 'Y', 'Z'])\n",
    "\n",
    "# Filter rows with row sum greater than 100\n",
    "result_df = df[df.sum(axis=1) > 100]\n",
    "\n",
    "# Display the result\n",
    "print(result_df)"
   ]
  },
  {
   "cell_type": "code",
   "execution_count": 33,
   "id": "628a5a05-b356-4a53-a84b-c6a5c4aaaed9",
   "metadata": {},
   "outputs": [
    {
     "name": "stdout",
     "output_type": "stream",
     "text": [
      "Original Array:\n",
      "[[98 99 88  3]\n",
      " [71 14 21 29]\n",
      " [46  5 91 46]\n",
      " [80 75 16 12]]\n",
      "\n",
      "Rows Array:\n",
      "[[98 99 88  3 71 14 21 29]\n",
      " [46  5 91 46 80 75 16 12]]\n",
      "\n",
      "Columns Array:\n",
      "[[98 71 46 80 99 14  5 75]\n",
      " [88 21 91 16  3 29 46 12]]\n",
      "\n",
      "Sum of Each Row:\n",
      "[423 371]\n",
      "\n",
      "Sum of Each Column:\n",
      "[186  92 137  96 102  43  51  87]\n"
     ]
    }
   ],
   "source": [
    "import numpy as np\n",
    "\n",
    "# Create a 4x4 NumPy array with random integers between 1 and 100\n",
    "random_array = np.random.randint(1, 101, (4, 4))\n",
    "\n",
    "# Reshape the array into two separate 2D arrays for rows and columns\n",
    "rows_array = random_array.reshape(2, 8)\n",
    "columns_array = random_array.T.reshape(2, 8)\n",
    "\n",
    "# Define a lambda function to calculate the sum of each row\n",
    "sum_row = lambda x: np.sum(x, axis=1)\n",
    "\n",
    "# Define a lambda function to calculate the sum of each column\n",
    "sum_column = lambda x: np.sum(x, axis=0)\n",
    "\n",
    "# Calculate the sum of each row and each column using the lambda functions\n",
    "sum_of_rows = sum_row(rows_array)\n",
    "sum_of_columns = sum_column(columns_array)\n",
    "\n",
    "# Display the original array and the results\n",
    "print(\"Original Array:\")\n",
    "print(random_array)\n",
    "print(\"\\nRows Array:\")\n",
    "print(rows_array)\n",
    "print(\"\\nColumns Array:\")\n",
    "print(columns_array)\n",
    "print(\"\\nSum of Each Row:\")\n",
    "print(sum_of_rows)\n",
    "print(\"\\nSum of Each Column:\")\n",
    "print(sum_of_columns)"
   ]
  }
 ],
 "metadata": {
  "kernelspec": {
   "display_name": "Python [conda env:mggy8413v2]",
   "language": "python",
   "name": "conda-env-mggy8413v2-py"
  },
  "language_info": {
   "codemirror_mode": {
    "name": "ipython",
    "version": 3
   },
   "file_extension": ".py",
   "mimetype": "text/x-python",
   "name": "python",
   "nbconvert_exporter": "python",
   "pygments_lexer": "ipython3",
   "version": "3.11.7"
  }
 },
 "nbformat": 4,
 "nbformat_minor": 5
}
